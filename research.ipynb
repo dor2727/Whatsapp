{
 "cells": [
  {
   "cell_type": "code",
   "execution_count": 50,
   "metadata": {
    "collapsed": false
   },
   "outputs": [],
   "source": [
    "import pandas as pd\n",
    "import numpy as np\n",
    "import importlib\n",
    "import WhatsappParse\n",
    "\n",
    "import matplotlib.pyplot as plt\n",
    "import matplotlib as mpl\n",
    "\n",
    "from gensim import corpora, models, similarities\n",
    "from pprint import pprint"
   ]
  },
  {
   "cell_type": "code",
   "execution_count": 51,
   "metadata": {
    "collapsed": false
   },
   "outputs": [],
   "source": [
    "%matplotlib inline\n",
    "mpl.rcParams['font.family'] = 'Arial'"
   ]
  },
  {
   "cell_type": "code",
   "execution_count": 52,
   "metadata": {
    "collapsed": false
   },
   "outputs": [],
   "source": [
    "input_file = \"WA_digging.txt\"\n",
    "\n",
    "with open(input_file, \"r\", encoding=\"utf-8\") as f:\n",
    "    content = f.read()\n",
    "\n",
    "chat = WhatsappParse.parse_convo(content)\n",
    "sys_msgs = WhatsappParse.parse_sysmsg(content)"
   ]
  },
  {
   "cell_type": "code",
   "execution_count": 53,
   "metadata": {
    "collapsed": false
   },
   "outputs": [],
   "source": [
    "chat_df = pd.DataFrame(chat+sys_msgs, columns=['timestamp','user','message'])\n",
    "chat_df['user'] = chat_df['user'].apply(lambda s: s[:2]) # Censoring names for privacy"
   ]
  },
  {
   "cell_type": "code",
   "execution_count": 54,
   "metadata": {
    "collapsed": false
   },
   "outputs": [
    {
     "data": {
      "text/html": [
       "<div>\n",
       "<table border=\"1\" class=\"dataframe\">\n",
       "  <thead>\n",
       "    <tr style=\"text-align: right;\">\n",
       "      <th></th>\n",
       "      <th>timestamp</th>\n",
       "      <th>user</th>\n",
       "      <th>message</th>\n",
       "    </tr>\n",
       "  </thead>\n",
       "  <tbody>\n",
       "    <tr>\n",
       "      <th>0</th>\n",
       "      <td>10/02/2015, 12:23</td>\n",
       "      <td>os</td>\n",
       "      <td>כשאמא ואבא בני דודים 😂</td>\n",
       "    </tr>\n",
       "    <tr>\n",
       "      <th>1</th>\n",
       "      <td>10/02/2015, 12:26</td>\n",
       "      <td>אל</td>\n",
       "      <td>יותר גרוע...אחים חחח</td>\n",
       "    </tr>\n",
       "    <tr>\n",
       "      <th>2</th>\n",
       "      <td>10/02/2015, 12:26</td>\n",
       "      <td>אמ</td>\n",
       "      <td>חחחחחחח</td>\n",
       "    </tr>\n",
       "    <tr>\n",
       "      <th>3</th>\n",
       "      <td>10/02/2015, 12:34</td>\n",
       "      <td>סה</td>\n",
       "      <td>חחח</td>\n",
       "    </tr>\n",
       "    <tr>\n",
       "      <th>4</th>\n",
       "      <td>10/02/2015, 12:48</td>\n",
       "      <td>אמ</td>\n",
       "      <td>אני מכיר אותו הוא דיי שרוט</td>\n",
       "    </tr>\n",
       "  </tbody>\n",
       "</table>\n",
       "</div>"
      ],
      "text/plain": [
       "           timestamp user                     message\n",
       "0  10/02/2015, 12:23   os      כשאמא ואבא בני דודים 😂\n",
       "1  10/02/2015, 12:26   אל        יותר גרוע...אחים חחח\n",
       "2  10/02/2015, 12:26   אמ                     חחחחחחח\n",
       "3  10/02/2015, 12:34   סה                         חחח\n",
       "4  10/02/2015, 12:48   אמ  אני מכיר אותו הוא דיי שרוט"
      ]
     },
     "execution_count": 54,
     "metadata": {},
     "output_type": "execute_result"
    }
   ],
   "source": [
    "chat_df.head()"
   ]
  },
  {
   "cell_type": "code",
   "execution_count": 60,
   "metadata": {
    "collapsed": false
   },
   "outputs": [],
   "source": [
    "chat_df['timestamp'] = pd.to_datetime(chat_df['timestamp']) # Convert datetime type"
   ]
  },
  {
   "cell_type": "code",
   "execution_count": 61,
   "metadata": {
    "collapsed": false
   },
   "outputs": [],
   "source": [
    "messages = chat_df['message']"
   ]
  },
  {
   "cell_type": "code",
   "execution_count": 62,
   "metadata": {
    "collapsed": true
   },
   "outputs": [],
   "source": [
    "all_text = ' '.join(chat_df['message']) # Get all text as a block to count overall occurences of words"
   ]
  },
  {
   "cell_type": "code",
   "execution_count": 63,
   "metadata": {
    "collapsed": false
   },
   "outputs": [],
   "source": [
    "# Clean text\n",
    "all_text = all_text.replace('\\n',' ').replace('\\r',' ').replace('<Media omitted>','<Media>')"
   ]
  },
  {
   "cell_type": "code",
   "execution_count": 64,
   "metadata": {
    "collapsed": false
   },
   "outputs": [
    {
     "data": {
      "text/plain": [
       "'כשאמא ואבא בני דודים 😂 יותר גרוע...אחים חחח חחחחחחח חחח אני מכיר אותו הוא דיי שרוט חחחחחחח כמה שגיאו'"
      ]
     },
     "execution_count": 64,
     "metadata": {},
     "output_type": "execute_result"
    }
   ],
   "source": [
    "all_text[:100]"
   ]
  },
  {
   "cell_type": "markdown",
   "metadata": {},
   "source": [
    "Seperate words by spaces"
   ]
  },
  {
   "cell_type": "code",
   "execution_count": 65,
   "metadata": {
    "collapsed": false
   },
   "outputs": [],
   "source": [
    "#tokenized = messages.apply(str.split,args=(' '))\n",
    "tokenized = all_text.split(' ')\n",
    "distinct_words = set(tokenized)"
   ]
  },
  {
   "cell_type": "code",
   "execution_count": 66,
   "metadata": {
    "collapsed": false
   },
   "outputs": [
    {
     "data": {
      "text/plain": [
       "142869"
      ]
     },
     "execution_count": 66,
     "metadata": {},
     "output_type": "execute_result"
    }
   ],
   "source": [
    "len(tokenized) # Overall word count"
   ]
  },
  {
   "cell_type": "code",
   "execution_count": 67,
   "metadata": {
    "collapsed": false
   },
   "outputs": [
    {
     "data": {
      "text/plain": [
       "28860"
      ]
     },
     "execution_count": 67,
     "metadata": {},
     "output_type": "execute_result"
    }
   ],
   "source": [
    "len(distinct_words) # Distinct word count"
   ]
  },
  {
   "cell_type": "markdown",
   "metadata": {},
   "source": [
    "## find in text"
   ]
  },
  {
   "cell_type": "code",
   "execution_count": 68,
   "metadata": {
    "collapsed": false
   },
   "outputs": [
    {
     "data": {
      "text/plain": [
       "'חחחחחחחחחחחחחחחחחחחחחחחחח ברביקיו איזה שם מצחיק זה'"
      ]
     },
     "execution_count": 68,
     "metadata": {},
     "output_type": "execute_result"
    }
   ],
   "source": [
    "\n",
    "index_of = all_text.find('חחחחחחחחחחחחחחחחחחחחחח')\n",
    "all_text[index_of:index_of+50]"
   ]
  },
  {
   "cell_type": "markdown",
   "metadata": {},
   "source": [
    "## frequencies"
   ]
  },
  {
   "cell_type": "code",
   "execution_count": 69,
   "metadata": {
    "collapsed": true
   },
   "outputs": [],
   "source": [
    "words_count = list(map(lambda x: tokenized.count(x), distinct_words)) # Count all words"
   ]
  },
  {
   "cell_type": "code",
   "execution_count": 70,
   "metadata": {
    "collapsed": false
   },
   "outputs": [],
   "source": [
    "counts_arr = np.asarray(words_count)\n",
    "words_freq = counts_arr/np.sum(counts_arr) # Calc freq"
   ]
  },
  {
   "cell_type": "code",
   "execution_count": 71,
   "metadata": {
    "collapsed": false
   },
   "outputs": [],
   "source": [
    "# Bag of words\n",
    "bow = pd.DataFrame(data={'word':list(distinct_words),'count': words_count,'freq': words_freq},columns=['word','count','freq'])"
   ]
  },
  {
   "cell_type": "code",
   "execution_count": 72,
   "metadata": {
    "collapsed": false
   },
   "outputs": [
    {
     "data": {
      "text/html": [
       "<div>\n",
       "<table border=\"1\" class=\"dataframe\">\n",
       "  <thead>\n",
       "    <tr style=\"text-align: right;\">\n",
       "      <th></th>\n",
       "      <th>word</th>\n",
       "      <th>count</th>\n",
       "      <th>freq</th>\n",
       "    </tr>\n",
       "  </thead>\n",
       "  <tbody>\n",
       "    <tr>\n",
       "      <th>19695</th>\n",
       "      <td>wtf</td>\n",
       "      <td>6.0</td>\n",
       "      <td>0.000042</td>\n",
       "    </tr>\n",
       "  </tbody>\n",
       "</table>\n",
       "</div>"
      ],
      "text/plain": [
       "      word  count      freq\n",
       "19695  wtf    6.0  0.000042"
      ]
     },
     "execution_count": 72,
     "metadata": {},
     "output_type": "execute_result"
    }
   ],
   "source": [
    "bow.where(bow['word'] == 'wtf').dropna()"
   ]
  },
  {
   "cell_type": "markdown",
   "metadata": {},
   "source": [
    "# Cool findings"
   ]
  },
  {
   "cell_type": "markdown",
   "metadata": {},
   "source": [
    "## leavers"
   ]
  },
  {
   "cell_type": "code",
   "execution_count": 2,
   "metadata": {
    "collapsed": false
   },
   "outputs": [],
   "source": [
    "## user (sy)stem is system messages\n",
    "chat_df.where(chat_df['user'] == 'sy').dropna().where(chat_df['message'].apply(lambda m: 'left' in m)).dropna()"
   ]
  },
  {
   "cell_type": "markdown",
   "metadata": {},
   "source": [
    "## top X words"
   ]
  },
  {
   "cell_type": "code",
   "execution_count": 79,
   "metadata": {
    "collapsed": false
   },
   "outputs": [
    {
     "data": {
      "text/html": [
       "<div>\n",
       "<table border=\"1\" class=\"dataframe\">\n",
       "  <thead>\n",
       "    <tr style=\"text-align: right;\">\n",
       "      <th></th>\n",
       "      <th>word</th>\n",
       "      <th>count</th>\n",
       "      <th>freq</th>\n",
       "    </tr>\n",
       "  </thead>\n",
       "  <tbody>\n",
       "    <tr>\n",
       "      <th>1</th>\n",
       "      <td>לא</td>\n",
       "      <td>3636.0</td>\n",
       "      <td>0.025450</td>\n",
       "    </tr>\n",
       "    <tr>\n",
       "      <th>2</th>\n",
       "      <td>אני</td>\n",
       "      <td>2940.0</td>\n",
       "      <td>0.020578</td>\n",
       "    </tr>\n",
       "    <tr>\n",
       "      <th>3</th>\n",
       "      <td>זה</td>\n",
       "      <td>2818.0</td>\n",
       "      <td>0.019724</td>\n",
       "    </tr>\n",
       "    <tr>\n",
       "      <th>4</th>\n",
       "      <td>&lt;Media&gt;</td>\n",
       "      <td>2088.0</td>\n",
       "      <td>0.014615</td>\n",
       "    </tr>\n",
       "    <tr>\n",
       "      <th>5</th>\n",
       "      <td>חחח</td>\n",
       "      <td>1873.0</td>\n",
       "      <td>0.013110</td>\n",
       "    </tr>\n",
       "    <tr>\n",
       "      <th>6</th>\n",
       "      <td>את</td>\n",
       "      <td>1807.0</td>\n",
       "      <td>0.012648</td>\n",
       "    </tr>\n",
       "    <tr>\n",
       "      <th>7</th>\n",
       "      <td>מה</td>\n",
       "      <td>1393.0</td>\n",
       "      <td>0.009750</td>\n",
       "    </tr>\n",
       "    <tr>\n",
       "      <th>8</th>\n",
       "      <td>לי</td>\n",
       "      <td>1338.0</td>\n",
       "      <td>0.009365</td>\n",
       "    </tr>\n",
       "    <tr>\n",
       "      <th>9</th>\n",
       "      <td>חחחח</td>\n",
       "      <td>1223.0</td>\n",
       "      <td>0.008560</td>\n",
       "    </tr>\n",
       "    <tr>\n",
       "      <th>10</th>\n",
       "      <td>יש</td>\n",
       "      <td>1195.0</td>\n",
       "      <td>0.008364</td>\n",
       "    </tr>\n",
       "    <tr>\n",
       "      <th>11</th>\n",
       "      <td>על</td>\n",
       "      <td>1075.0</td>\n",
       "      <td>0.007524</td>\n",
       "    </tr>\n",
       "    <tr>\n",
       "      <th>12</th>\n",
       "      <td>אתה</td>\n",
       "      <td>1017.0</td>\n",
       "      <td>0.007118</td>\n",
       "    </tr>\n",
       "    <tr>\n",
       "      <th>13</th>\n",
       "      <td>?</td>\n",
       "      <td>987.0</td>\n",
       "      <td>0.006908</td>\n",
       "    </tr>\n",
       "    <tr>\n",
       "      <th>14</th>\n",
       "      <td>גם</td>\n",
       "      <td>927.0</td>\n",
       "      <td>0.006488</td>\n",
       "    </tr>\n",
       "    <tr>\n",
       "      <th>15</th>\n",
       "      <td>של</td>\n",
       "      <td>926.0</td>\n",
       "      <td>0.006481</td>\n",
       "    </tr>\n",
       "    <tr>\n",
       "      <th>16</th>\n",
       "      <td>חח</td>\n",
       "      <td>875.0</td>\n",
       "      <td>0.006124</td>\n",
       "    </tr>\n",
       "    <tr>\n",
       "      <th>17</th>\n",
       "      <td>אז</td>\n",
       "      <td>803.0</td>\n",
       "      <td>0.005621</td>\n",
       "    </tr>\n",
       "    <tr>\n",
       "      <th>18</th>\n",
       "      <td>אבל</td>\n",
       "      <td>797.0</td>\n",
       "      <td>0.005579</td>\n",
       "    </tr>\n",
       "    <tr>\n",
       "      <th>19</th>\n",
       "      <td>אם</td>\n",
       "      <td>744.0</td>\n",
       "      <td>0.005208</td>\n",
       "    </tr>\n",
       "    <tr>\n",
       "      <th>20</th>\n",
       "      <td>עם</td>\n",
       "      <td>704.0</td>\n",
       "      <td>0.004928</td>\n",
       "    </tr>\n",
       "    <tr>\n",
       "      <th>21</th>\n",
       "      <td>חחחחח</td>\n",
       "      <td>699.0</td>\n",
       "      <td>0.004893</td>\n",
       "    </tr>\n",
       "    <tr>\n",
       "      <th>22</th>\n",
       "      <td>הוא</td>\n",
       "      <td>636.0</td>\n",
       "      <td>0.004452</td>\n",
       "    </tr>\n",
       "    <tr>\n",
       "      <th>23</th>\n",
       "      <td>מי</td>\n",
       "      <td>633.0</td>\n",
       "      <td>0.004431</td>\n",
       "    </tr>\n",
       "    <tr>\n",
       "      <th>24</th>\n",
       "      <td>טוב</td>\n",
       "      <td>622.0</td>\n",
       "      <td>0.004354</td>\n",
       "    </tr>\n",
       "    <tr>\n",
       "      <th>25</th>\n",
       "      <td>מתן</td>\n",
       "      <td>586.0</td>\n",
       "      <td>0.004102</td>\n",
       "    </tr>\n",
       "    <tr>\n",
       "      <th>26</th>\n",
       "      <td>כל</td>\n",
       "      <td>579.0</td>\n",
       "      <td>0.004053</td>\n",
       "    </tr>\n",
       "    <tr>\n",
       "      <th>27</th>\n",
       "      <td>לך</td>\n",
       "      <td>575.0</td>\n",
       "      <td>0.004025</td>\n",
       "    </tr>\n",
       "    <tr>\n",
       "      <th>28</th>\n",
       "      <td>כן</td>\n",
       "      <td>517.0</td>\n",
       "      <td>0.003619</td>\n",
       "    </tr>\n",
       "    <tr>\n",
       "      <th>29</th>\n",
       "      <td>אלון</td>\n",
       "      <td>464.0</td>\n",
       "      <td>0.003248</td>\n",
       "    </tr>\n",
       "    <tr>\n",
       "      <th>30</th>\n",
       "      <td>או</td>\n",
       "      <td>455.0</td>\n",
       "      <td>0.003185</td>\n",
       "    </tr>\n",
       "  </tbody>\n",
       "</table>\n",
       "</div>"
      ],
      "text/plain": [
       "       word   count      freq\n",
       "1        לא  3636.0  0.025450\n",
       "2       אני  2940.0  0.020578\n",
       "3        זה  2818.0  0.019724\n",
       "4   <Media>  2088.0  0.014615\n",
       "5       חחח  1873.0  0.013110\n",
       "6        את  1807.0  0.012648\n",
       "7        מה  1393.0  0.009750\n",
       "8        לי  1338.0  0.009365\n",
       "9      חחחח  1223.0  0.008560\n",
       "10       יש  1195.0  0.008364\n",
       "11       על  1075.0  0.007524\n",
       "12      אתה  1017.0  0.007118\n",
       "13        ?   987.0  0.006908\n",
       "14       גם   927.0  0.006488\n",
       "15       של   926.0  0.006481\n",
       "16       חח   875.0  0.006124\n",
       "17       אז   803.0  0.005621\n",
       "18      אבל   797.0  0.005579\n",
       "19       אם   744.0  0.005208\n",
       "20       עם   704.0  0.004928\n",
       "21    חחחחח   699.0  0.004893\n",
       "22      הוא   636.0  0.004452\n",
       "23       מי   633.0  0.004431\n",
       "24      טוב   622.0  0.004354\n",
       "25      מתן   586.0  0.004102\n",
       "26       כל   579.0  0.004053\n",
       "27       לך   575.0  0.004025\n",
       "28       כן   517.0  0.003619\n",
       "29     אלון   464.0  0.003248\n",
       "30       או   455.0  0.003185"
      ]
     },
     "execution_count": 79,
     "metadata": {},
     "output_type": "execute_result"
    },
    {
     "data": {
      "image/png": "[encoded data removed]",
      "text/plain": [
       "<matplotlib.figure.Figure at 0x1be39976278>"
      ]
     },
     "metadata": {},
     "output_type": "display_data"
    }
   ],
   "source": [
    "N = 10\n",
    "\n",
    "top_words = bow.where(bow['word'].str.len() > 0).dropna().sort_values('count',ascending=False)\n",
    "\n",
    "bar_labels = list(map(lambda w: w[::-1], top_words['word'].head(N)))\n",
    "\n",
    "plt.bar(range(N),top_words['count'].head(N), tick_label=bar_labels, align='center')\n",
    "\n",
    "M = 30\n",
    "\n",
    "brief_top = top_words.head(M)\n",
    "\n",
    "brief_top.index = range(1,M+1)\n",
    "\n",
    "brief_top"
   ]
  },
  {
   "cell_type": "markdown",
   "metadata": {},
   "source": [
    "## Top senders"
   ]
  },
  {
   "cell_type": "markdown",
   "metadata": {},
   "source": [
    "### by message count"
   ]
  },
  {
   "cell_type": "code",
   "execution_count": 80,
   "metadata": {
    "collapsed": false,
    "scrolled": false
   },
   "outputs": [
    {
     "data": {
      "text/plain": [
       "([<matplotlib.patches.Wedge at 0x1be39ae8160>,\n",
       "  <matplotlib.patches.Wedge at 0x1be39ae8dd8>,\n",
       "  <matplotlib.patches.Wedge at 0x1be39b08a58>,\n",
       "  <matplotlib.patches.Wedge at 0x1be39ad36d8>,\n",
       "  <matplotlib.patches.Wedge at 0x1be3da58358>,\n",
       "  <matplotlib.patches.Wedge at 0x1be3da58f98>,\n",
       "  <matplotlib.patches.Wedge at 0x1be3da4ac18>,\n",
       "  <matplotlib.patches.Wedge at 0x1be3da5d898>,\n",
       "  <matplotlib.patches.Wedge at 0x1be3da20518>,\n",
       "  <matplotlib.patches.Wedge at 0x1be3da2e198>,\n",
       "  <matplotlib.patches.Wedge at 0x1be3da2edd8>,\n",
       "  <matplotlib.patches.Wedge at 0x1be3da5aa58>,\n",
       "  <matplotlib.patches.Wedge at 0x1be3da516d8>,\n",
       "  <matplotlib.patches.Wedge at 0x1be3da29358>,\n",
       "  <matplotlib.patches.Wedge at 0x1be3da29f98>,\n",
       "  <matplotlib.patches.Wedge at 0x1be3da57c18>,\n",
       "  <matplotlib.patches.Wedge at 0x1be3da37898>,\n",
       "  <matplotlib.patches.Wedge at 0x1be3da2f518>,\n",
       "  <matplotlib.patches.Wedge at 0x1be3da5f198>,\n",
       "  <matplotlib.patches.Wedge at 0x1be3da5fdd8>,\n",
       "  <matplotlib.patches.Wedge at 0x1be3e3a7a58>,\n",
       "  <matplotlib.patches.Wedge at 0x1be3e3976d8>],\n",
       " [<matplotlib.text.Text at 0x1be39ae8978>,\n",
       "  <matplotlib.text.Text at 0x1be39b085f8>,\n",
       "  <matplotlib.text.Text at 0x1be39ad3278>,\n",
       "  <matplotlib.text.Text at 0x1be39ad3eb8>,\n",
       "  <matplotlib.text.Text at 0x1be3da58b38>,\n",
       "  <matplotlib.text.Text at 0x1be3da4a7b8>,\n",
       "  <matplotlib.text.Text at 0x1be3da5d438>,\n",
       "  <matplotlib.text.Text at 0x1be3da5df98>,\n",
       "  <matplotlib.text.Text at 0x1be3da20cf8>,\n",
       "  <matplotlib.text.Text at 0x1be3da2e978>,\n",
       "  <matplotlib.text.Text at 0x1be3da5a550>,\n",
       "  <matplotlib.text.Text at 0x1be3da51278>,\n",
       "  <matplotlib.text.Text at 0x1be3da51eb8>,\n",
       "  <matplotlib.text.Text at 0x1be3da29b38>,\n",
       "  <matplotlib.text.Text at 0x1be3da577b8>,\n",
       "  <matplotlib.text.Text at 0x1be3da37438>,\n",
       "  <matplotlib.text.Text at 0x1be3da37f98>,\n",
       "  <matplotlib.text.Text at 0x1be3da2fcf8>,\n",
       "  <matplotlib.text.Text at 0x1be3da5f978>,\n",
       "  <matplotlib.text.Text at 0x1be3e3a75f8>,\n",
       "  <matplotlib.text.Text at 0x1be3e397278>,\n",
       "  <matplotlib.text.Text at 0x1be3e397eb8>])"
      ]
     },
     "execution_count": 80,
     "metadata": {},
     "output_type": "execute_result"
    },
    {
     "data": {
      "image/png": "[encoded data removed]",
      "text/plain": [
       "<matplotlib.figure.Figure at 0x1be399510f0>"
      ]
     },
     "metadata": {},
     "output_type": "display_data"
    }
   ],
   "source": [
    "chat_df['len'] = chat_df['message'].apply(len)\n",
    "\n",
    "top_senders = pd.DataFrame(chat_df.groupby('user',as_index=False).size().sort_values(ascending=False),columns=['msg_count']).reset_index()\n",
    "\n",
    "fig = plt.figure()\n",
    "\n",
    "user_labels = list(map(lambda u: u[::-1],top_senders['user']))\n",
    "\n",
    "plt.pie(top_senders['msg_count'],labels=user_labels)\n",
    "#plt.savefig('pie.png')"
   ]
  },
  {
   "cell_type": "markdown",
   "metadata": {},
   "source": [
    "### by total chars"
   ]
  },
  {
   "cell_type": "code",
   "execution_count": 81,
   "metadata": {
    "collapsed": false
   },
   "outputs": [
    {
     "data": {
      "image/png": "[encoded data removed]",
      "text/plain": [
       "<matplotlib.figure.Figure at 0x1be3e409ac8>"
      ]
     },
     "metadata": {},
     "output_type": "display_data"
    }
   ],
   "source": [
    "top_lens = pd.DataFrame(chat_df.groupby('user',as_index=False).sum()).sort_values('len',ascending=False)\n",
    "\n",
    "fig = plt.figure()\n",
    "\n",
    "user_labels = list(map(lambda u: u[::-1],top_lens['user']))\n",
    "\n",
    "plt.pie(top_lens['len'],labels=user_labels)\n",
    "plt.savefig(\"len_pie.png\")"
   ]
  },
  {
   "cell_type": "code",
   "execution_count": 82,
   "metadata": {
    "collapsed": false
   },
   "outputs": [
    {
     "data": {
      "text/html": [
       "<div>\n",
       "<table border=\"1\" class=\"dataframe\">\n",
       "  <thead>\n",
       "    <tr style=\"text-align: right;\">\n",
       "      <th></th>\n",
       "      <th>user</th>\n",
       "      <th>len</th>\n",
       "    </tr>\n",
       "  </thead>\n",
       "  <tbody>\n",
       "    <tr>\n",
       "      <th>2</th>\n",
       "      <td>אל</td>\n",
       "      <td>114906</td>\n",
       "    </tr>\n",
       "    <tr>\n",
       "      <th>6</th>\n",
       "      <td>בר</td>\n",
       "      <td>85414</td>\n",
       "    </tr>\n",
       "    <tr>\n",
       "      <th>11</th>\n",
       "      <td>מת</td>\n",
       "      <td>79011</td>\n",
       "    </tr>\n",
       "    <tr>\n",
       "      <th>3</th>\n",
       "      <td>אמ</td>\n",
       "      <td>66267</td>\n",
       "    </tr>\n",
       "    <tr>\n",
       "      <th>10</th>\n",
       "      <td>לי</td>\n",
       "      <td>52543</td>\n",
       "    </tr>\n",
       "    <tr>\n",
       "      <th>19</th>\n",
       "      <td>שי</td>\n",
       "      <td>51197</td>\n",
       "    </tr>\n",
       "    <tr>\n",
       "      <th>5</th>\n",
       "      <td>בו</td>\n",
       "      <td>43517</td>\n",
       "    </tr>\n",
       "    <tr>\n",
       "      <th>7</th>\n",
       "      <td>בת</td>\n",
       "      <td>31875</td>\n",
       "    </tr>\n",
       "    <tr>\n",
       "      <th>17</th>\n",
       "      <td>רע</td>\n",
       "      <td>27028</td>\n",
       "    </tr>\n",
       "    <tr>\n",
       "      <th>18</th>\n",
       "      <td>שג</td>\n",
       "      <td>25849</td>\n",
       "    </tr>\n",
       "    <tr>\n",
       "      <th>13</th>\n",
       "      <td>סה</td>\n",
       "      <td>22035</td>\n",
       "    </tr>\n",
       "    <tr>\n",
       "      <th>14</th>\n",
       "      <td>ספ</td>\n",
       "      <td>19844</td>\n",
       "    </tr>\n",
       "    <tr>\n",
       "      <th>20</th>\n",
       "      <td>שנ</td>\n",
       "      <td>17028</td>\n",
       "    </tr>\n",
       "    <tr>\n",
       "      <th>4</th>\n",
       "      <td>אס</td>\n",
       "      <td>16144</td>\n",
       "    </tr>\n",
       "    <tr>\n",
       "      <th>0</th>\n",
       "      <td>os</td>\n",
       "      <td>14424</td>\n",
       "    </tr>\n",
       "    <tr>\n",
       "      <th>12</th>\n",
       "      <td>ני</td>\n",
       "      <td>11116</td>\n",
       "    </tr>\n",
       "    <tr>\n",
       "      <th>9</th>\n",
       "      <td>יש</td>\n",
       "      <td>11020</td>\n",
       "    </tr>\n",
       "    <tr>\n",
       "      <th>1</th>\n",
       "      <td>sy</td>\n",
       "      <td>8237</td>\n",
       "    </tr>\n",
       "    <tr>\n",
       "      <th>16</th>\n",
       "      <td>רו</td>\n",
       "      <td>2911</td>\n",
       "    </tr>\n",
       "    <tr>\n",
       "      <th>21</th>\n",
       "      <td>‪+</td>\n",
       "      <td>1443</td>\n",
       "    </tr>\n",
       "    <tr>\n",
       "      <th>8</th>\n",
       "      <td>גל</td>\n",
       "      <td>1236</td>\n",
       "    </tr>\n",
       "    <tr>\n",
       "      <th>15</th>\n",
       "      <td>קל</td>\n",
       "      <td>1160</td>\n",
       "    </tr>\n",
       "  </tbody>\n",
       "</table>\n",
       "</div>"
      ],
      "text/plain": [
       "   user     len\n",
       "2    אל  114906\n",
       "6    בר   85414\n",
       "11   מת   79011\n",
       "3    אמ   66267\n",
       "10   לי   52543\n",
       "19   שי   51197\n",
       "5    בו   43517\n",
       "7    בת   31875\n",
       "17   רע   27028\n",
       "18   שג   25849\n",
       "13   סה   22035\n",
       "14   ספ   19844\n",
       "20   שנ   17028\n",
       "4    אס   16144\n",
       "0    os   14424\n",
       "12   ני   11116\n",
       "9    יש   11020\n",
       "1    sy    8237\n",
       "16   רו    2911\n",
       "21   ‪+    1443\n",
       "8    גל    1236\n",
       "15   קל    1160"
      ]
     },
     "execution_count": 82,
     "metadata": {},
     "output_type": "execute_result"
    }
   ],
   "source": [
    "top_lens[['user','len']]"
   ]
  },
  {
   "cell_type": "markdown",
   "metadata": {
    "collapsed": false
   },
   "source": [
    "## Dates and times"
   ]
  },
  {
   "cell_type": "code",
   "execution_count": 85,
   "metadata": {
    "collapsed": false
   },
   "outputs": [
    {
     "data": {
      "text/html": [
       "<div>\n",
       "<table border=\"1\" class=\"dataframe\">\n",
       "  <thead>\n",
       "    <tr style=\"text-align: right;\">\n",
       "      <th></th>\n",
       "      <th>weekday</th>\n",
       "      <th>msg_count</th>\n",
       "      <th>i</th>\n",
       "    </tr>\n",
       "  </thead>\n",
       "  <tbody>\n",
       "    <tr>\n",
       "      <th>6</th>\n",
       "      <td>6</td>\n",
       "      <td>5565</td>\n",
       "      <td>1</td>\n",
       "    </tr>\n",
       "    <tr>\n",
       "      <th>0</th>\n",
       "      <td>0</td>\n",
       "      <td>4794</td>\n",
       "      <td>2</td>\n",
       "    </tr>\n",
       "    <tr>\n",
       "      <th>1</th>\n",
       "      <td>1</td>\n",
       "      <td>4908</td>\n",
       "      <td>3</td>\n",
       "    </tr>\n",
       "    <tr>\n",
       "      <th>2</th>\n",
       "      <td>2</td>\n",
       "      <td>4309</td>\n",
       "      <td>4</td>\n",
       "    </tr>\n",
       "    <tr>\n",
       "      <th>3</th>\n",
       "      <td>3</td>\n",
       "      <td>3726</td>\n",
       "      <td>5</td>\n",
       "    </tr>\n",
       "    <tr>\n",
       "      <th>4</th>\n",
       "      <td>4</td>\n",
       "      <td>5451</td>\n",
       "      <td>6</td>\n",
       "    </tr>\n",
       "    <tr>\n",
       "      <th>5</th>\n",
       "      <td>5</td>\n",
       "      <td>3631</td>\n",
       "      <td>7</td>\n",
       "    </tr>\n",
       "  </tbody>\n",
       "</table>\n",
       "</div>"
      ],
      "text/plain": [
       "   weekday  msg_count  i\n",
       "6        6       5565  1\n",
       "0        0       4794  2\n",
       "1        1       4908  3\n",
       "2        2       4309  4\n",
       "3        3       3726  5\n",
       "4        4       5451  6\n",
       "5        5       3631  7"
      ]
     },
     "execution_count": 85,
     "metadata": {},
     "output_type": "execute_result"
    },
    {
     "data": {
      "image/png": "[encoded data removed]",
      "text/plain": [
       "<matplotlib.figure.Figure at 0x1be39f6c0f0>"
      ]
     },
     "metadata": {},
     "output_type": "display_data"
    }
   ],
   "source": [
    "chat_df['year'] = [t.year for t in chat_df.timestamp]\n",
    "chat_df['month'] = [t.month for t in chat_df.timestamp]\n",
    "chat_df['weekday'] = [t.dayofweek for t in chat_df.timestamp]\n",
    "chat_df['hourofday'] = [str(t.hour).zfill(2) for t in chat_df.timestamp]\n",
    "\n",
    "top_days = pd.DataFrame(chat_df.groupby('weekday',as_index=False).size(),columns=['msg_count']).reset_index()\n",
    "top_days['i'] = [2,3,4,5,6,7,1]\n",
    "bar_labels = ['Sun', 'Mon','Tue','Wed','Thu','Fri','Sat']\n",
    "\n",
    "top_days = top_days.sort_values('i')\n",
    "\n",
    "plt.bar(range(7),top_days['msg_count'], tick_label=bar_labels, align='center')\n",
    "top_days"
   ]
  },
  {
   "cell_type": "code",
   "execution_count": 86,
   "metadata": {
    "collapsed": false
   },
   "outputs": [
    {
     "data": {
      "image/png": "[encoded data removed]",
      "text/plain": [
       "<matplotlib.figure.Figure at 0x1be3e3a3470>"
      ]
     },
     "metadata": {},
     "output_type": "display_data"
    }
   ],
   "source": [
    "top_hours = pd.DataFrame(chat_df.groupby('hourofday',as_index=False).size(),columns=['msg_count']).reset_index()\n",
    "\n",
    "barplot = plt.bar(range(int(chat_df['hourofday'].max())+1),top_hours['msg_count'])\n"
   ]
  },
  {
   "cell_type": "markdown",
   "metadata": {},
   "source": [
    "## Media"
   ]
  },
  {
   "cell_type": "code",
   "execution_count": 87,
   "metadata": {
    "collapsed": false
   },
   "outputs": [
    {
     "data": {
      "text/plain": [
       "([<matplotlib.patches.Wedge at 0x1be3b727358>,\n",
       "  <matplotlib.patches.Wedge at 0x1be3b727fd0>,\n",
       "  <matplotlib.patches.Wedge at 0x1be3b72dc50>,\n",
       "  <matplotlib.patches.Wedge at 0x1be3b7348d0>,\n",
       "  <matplotlib.patches.Wedge at 0x1be3b739550>,\n",
       "  <matplotlib.patches.Wedge at 0x1be3b73e1d0>,\n",
       "  <matplotlib.patches.Wedge at 0x1be3b73ee10>,\n",
       "  <matplotlib.patches.Wedge at 0x1be3b743a90>,\n",
       "  <matplotlib.patches.Wedge at 0x1be3b748710>,\n",
       "  <matplotlib.patches.Wedge at 0x1be3b74e390>,\n",
       "  <matplotlib.patches.Wedge at 0x1be3b74efd0>,\n",
       "  <matplotlib.patches.Wedge at 0x1be3b753c50>,\n",
       "  <matplotlib.patches.Wedge at 0x1be3b75a8d0>,\n",
       "  <matplotlib.patches.Wedge at 0x1be3b75f550>,\n",
       "  <matplotlib.patches.Wedge at 0x1be3b7651d0>,\n",
       "  <matplotlib.patches.Wedge at 0x1be3b765e10>,\n",
       "  <matplotlib.patches.Wedge at 0x1be3b76ba90>,\n",
       "  <matplotlib.patches.Wedge at 0x1be3b770710>,\n",
       "  <matplotlib.patches.Wedge at 0x1be3b775390>,\n",
       "  <matplotlib.patches.Wedge at 0x1be3b775fd0>],\n",
       " [<matplotlib.text.Text at 0x1be3b727b70>,\n",
       "  <matplotlib.text.Text at 0x1be3b72d7f0>,\n",
       "  <matplotlib.text.Text at 0x1be3b734470>,\n",
       "  <matplotlib.text.Text at 0x1be3b734fd0>,\n",
       "  <matplotlib.text.Text at 0x1be3b739d30>,\n",
       "  <matplotlib.text.Text at 0x1be3b73e9b0>,\n",
       "  <matplotlib.text.Text at 0x1be3b743630>,\n",
       "  <matplotlib.text.Text at 0x1be3b7482b0>,\n",
       "  <matplotlib.text.Text at 0x1be3b748ef0>,\n",
       "  <matplotlib.text.Text at 0x1be3b74eb70>,\n",
       "  <matplotlib.text.Text at 0x1be3b7537f0>,\n",
       "  <matplotlib.text.Text at 0x1be3b75a470>,\n",
       "  <matplotlib.text.Text at 0x1be3b75afd0>,\n",
       "  <matplotlib.text.Text at 0x1be3b75fd30>,\n",
       "  <matplotlib.text.Text at 0x1be3b7659b0>,\n",
       "  <matplotlib.text.Text at 0x1be3b76b630>,\n",
       "  <matplotlib.text.Text at 0x1be3b7702b0>,\n",
       "  <matplotlib.text.Text at 0x1be3b770ef0>,\n",
       "  <matplotlib.text.Text at 0x1be3b775b70>,\n",
       "  <matplotlib.text.Text at 0x1be3b77a7f0>])"
      ]
     },
     "execution_count": 87,
     "metadata": {},
     "output_type": "execute_result"
    },
    {
     "data": {
      "image/png": "[encoded data removed]",
      "text/plain": [
       "<matplotlib.figure.Figure at 0x1be3b6a6518>"
      ]
     },
     "metadata": {},
     "output_type": "display_data"
    }
   ],
   "source": [
    "top_senders = pd.DataFrame(chat_df.where(chat_df['message'] == '<Media omitted>').groupby('user',as_index=False).size().sort_values(ascending=False),columns=['msg_count']).reset_index()\n",
    "fig = plt.figure()\n",
    "user_labels = list(map(lambda u: u[::-1],top_senders['user']))\n",
    "plt.pie(top_senders['msg_count'],labels=user_labels)\n",
    "#fig.savefig(\"media_pie.png\")"
   ]
  },
  {
   "cell_type": "code",
   "execution_count": 89,
   "metadata": {
    "collapsed": false
   },
   "outputs": [
    {
     "data": {
      "text/plain": [
       "0.30411877394636017"
      ]
     },
     "execution_count": 89,
     "metadata": {},
     "output_type": "execute_result"
    }
   ],
   "source": [
    "top_senders.max()['msg_count']/top_senders.sum()['msg_count'] # Media percentage of top media sender"
   ]
  }
 ],
 "metadata": {
  "kernelspec": {
   "display_name": "Python 3",
   "language": "python",
   "name": "python3"
  },
  "language_info": {
   "codemirror_mode": {
    "name": "ipython",
    "version": 3
   },
   "file_extension": ".py",
   "mimetype": "text/x-python",
   "name": "python",
   "nbconvert_exporter": "python",
   "pygments_lexer": "ipython3",
   "version": "3.5.1"
  }
 },
 "nbformat": 4,
 "nbformat_minor": 0
}
